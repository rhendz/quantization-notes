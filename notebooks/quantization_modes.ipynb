{
 "cells": [
  {
   "attachments": {},
   "cell_type": "markdown",
   "metadata": {},
   "source": [
    "# Quantization Modes\n"
   ]
  },
  {
   "cell_type": "code",
   "execution_count": null,
   "metadata": {},
   "outputs": [],
   "source": [
    "# define imports\n",
    "import numpy as np\n",
    "from pathlib import Path\n",
    "\n",
    "from quantization_notes.utils.utils import plot_table\n",
    "\n",
    "OUTPUT_DIR = Path(\"../output\")"
   ]
  },
  {
   "attachments": {},
   "cell_type": "markdown",
   "metadata": {},
   "source": [
    "## Symmetric Quantization\n",
    "\n",
    "In symmetric quantization, we map the floating-point range to the quantized range with respect to $0$ - think along the lines of $[-100,100]$. To do so, we choose $\\alpha = \\max|x_f| = -\\max(x_f)$ and $\\max(x_f)$, where $x_f$ is some number in the floating-point range. \n",
    "\n",
    "Additionally, we choose $N_{bins} = 2^n$, where $n$ is the number of bits we want to quantize to. In order to derive our quantization range with respect to $0$, we simply place half the bins before $0$ and the other half after $0$.\n",
    "\n",
    "Example: Let's say we wanted an 8-bit quantization range. Then, the number of bins would be $N_{bins} = 2^8 = 256 \\implies [0,255] \\implies [-128,127]$. That is the \"full range\" symmetric around 0. However in practice, this range is generally \"restricted\" to $[-127,127]$. We can derive scaling factors to map from floating point to quantized for both ranges:\n",
    "\n",
    "$$\n",
    "\\def\\arraystretch{1.5}\n",
    "\\begin{array}{c|c|c}\n",
    "& \\text{Full Range} & \\text{Restricted Range} \\\\ \\hline\n",
    "\\text{Quantized Range} & [-\\frac{N_{bins}}{2},\\frac{N_{bins}}{2}-1] & [-(\\frac{N_{bins}}{2}-1),\\frac{N_{bins}}{2}-1] \\\\ \\hline\n",
    "\\text{8-bit Example} & [-128,127] & [-127,127] \\\\ \\hline\n",
    "\\text{Scale Factor} & q_x=\\frac{(2^n-1)/2}{\\alpha} & q_x=\\frac{2^{n-1}-1}{\\alpha} \\\\\n",
    "\\end {array}\n",
    "$$\n",
    "\n",
    "Finally, we can compute our symmetric quantized tensor:\n",
    "\n",
    "$$x_q = \\text{round}(q_xx_f)$$\n"
   ]
  },
  {
   "cell_type": "code",
   "execution_count": null,
   "metadata": {},
   "outputs": [],
   "source": [
    "def quantize_symmetric_full(n: int, x_f: np.array) -> tuple[float, np.array]:\n",
    "    q_x = ((pow(2, n) - 1) / 2) / np.max(np.abs(x_f))\n",
    "    x_q = np.round(q_x * x_f)\n",
    "    return q_x, x_q\n",
    "\n",
    "\n",
    "def quantize_symmetric_restricted(n: int, x_f: np.array) -> tuple[float, np.array]:\n",
    "    q_x = (pow(2, n - 1) - 1) / np.max(np.abs(x_f))\n",
    "    x_q = np.round(q_x * x_f)\n",
    "    return q_x, x_q\n",
    "\n",
    "\n",
    "data = np.random.uniform(-1000, 1000, size=(5, 5))\n",
    "print(f\"unquantized data:\\n {data} \\n\")\n",
    "\n",
    "quantized_symmetric_full_scale, quantized_symmetric_full_data = quantize_symmetric_full(8, data)\n",
    "print(f\"quantize symmetric full\\n {quantized_symmetric_full_data} \\n\")\n",
    "\n",
    "quantized_symmetric_restricted_scale, quantized_symmetric_restricted_data = quantize_symmetric_restricted(8, data)\n",
    "print(f\"quantize symmetric restricted\\n {quantized_symmetric_restricted_data} \\n\")"
   ]
  },
  {
   "cell_type": "code",
   "execution_count": null,
   "metadata": {},
   "outputs": [],
   "source": [
    "plot_table(data, str(OUTPUT_DIR / \"unquantized-data.png\"), \"Oranges\", \"black\", \"black\")\n",
    "plot_table(\n",
    "    quantized_symmetric_full_data,\n",
    "    str(OUTPUT_DIR / \"quantized-symmetric-full.png\"),\n",
    "    \"Blues\",\n",
    "    \"black\",\n",
    "    \"black\",\n",
    ")\n",
    "plot_table(\n",
    "    quantized_symmetric_restricted_data,\n",
    "    str(OUTPUT_DIR / \"quantized-symmetric-restricted.png\"),\n",
    "    \"Blues\",\n",
    "    \"black\",\n",
    "    \"black\",\n",
    ")"
   ]
  },
  {
   "attachments": {},
   "cell_type": "markdown",
   "metadata": {},
   "source": [
    "## Asymmetric Quantization\n",
    "\n",
    "Compared to symmetric quantization, asymmetric also known as *affine* quantization has a few key differences:\n",
    "\n",
    "- Instead of mapping the floating point range $[-\\alpha, \\alpha]$ to some quantized range symmetric to $0$, we choose $[\\alpha, \\beta]$, where $\\alpha=\\min(x_f)$ and $\\beta=\\max(x_f)$\n",
    "- Since the mapping is no longer symmetric to $0$, we have to introduce a **zero-point** $z_{x}$ also known as *quantization bias*. This serves to actually represent $0$ in the quantized range.\n",
    "- Additionally, the quantized range is now represented by $[0,2^n-1]$.\n",
    "\n",
    "We can derive a scaling factor for asymmetric quantization:\n",
    "\n",
    "$$\n",
    "\\def\\arraystretch{1.5}\n",
    "\\begin{array}{c|c}\n",
    "\\text{Quantized Range} & [0,N_{bins}-1] \\\\ \\hline\n",
    "\\text{8-bit Example} & [0, 255] \\\\ \\hline\n",
    "\\text{Scale Factor} & q_x=\\frac{2^n-1}{\\beta-\\alpha} \\\\\n",
    "\\end {array}\n",
    "$$\n",
    "\n",
    "To find the zero-point $z_{x}$, simply take the minimum value of $x_f$ i.e. $\\alpha$ and scale it to its representation in the new quantized range, which is:\n",
    "\n",
    "$$\n",
    "z_x = \\text{round}(q_x\\alpha)\n",
    "$$\n",
    "\n",
    "Finally, we can compute our asymmetric quantized tensor $q_x$ adjusted for bias:\n",
    "\n",
    "$$\n",
    "x_q = \\text{round}(q_x(x_f-z_x))\n",
    "$$"
   ]
  },
  {
   "attachments": {},
   "cell_type": "markdown",
   "metadata": {},
   "source": [
    "## Dequantization and Error\n",
    "\n",
    "Dequantization of a symmetric quantization is as simple as computing the quotient of the quantized tensor $x_q$ and the scale factor $q_x$:\n",
    "\n",
    "$$\\hat{x_f} = \\frac{x_q}{q_x}$$ \n",
    "\n",
    "However as expected, there is some error associated with the process of quantizing a tensor and then dequantizing it. We can compute that error using mean-squared error (MSE):\n",
    "\n",
    "$$\n",
    "\\text{MSE} = \\frac{1}{n}\\displaystyle\\sum(\\hat{x_f}-x_f)^2\n",
    "$$\n"
   ]
  },
  {
   "cell_type": "code",
   "execution_count": null,
   "metadata": {},
   "outputs": [],
   "source": [
    "def dequantize_symmetric(q_x: float, x_q: np.array) -> np.array:\n",
    "    return x_q / q_x\n",
    "\n",
    "def mse(a: np.array, b: np.array) -> float:\n",
    "    return np.mean((a-b)**2)\n",
    "\n",
    "dequantized_symmetric_full_data = dequantize_symmetric(quantized_symmetric_full_scale, quantized_symmetric_full_data)\n",
    "dequantized_symmetric_full_error = mse(dequantized_symmetric_full_data, data)\n",
    "\n",
    "print(f\"dequantized symmetric full data: \\n {dequantized_symmetric_full_data} \\n\")\n",
    "print(f\"dequantized symmetric full error: \\n {dequantized_symmetric_full_error:.2}% \\n\")\n",
    "\n",
    "dequantized_symmetric_restricted_data = dequantize_symmetric(quantized_symmetric_restricted_scale, quantized_symmetric_restricted_data)\n",
    "dequantized_symmetric_restricted_error = mse(dequantized_symmetric_restricted_data, data)\n",
    "\n",
    "print(f\"dequantized symmetric restricted data: \\n {dequantized_symmetric_restricted_data} \\n\")\n",
    "print(f\"dequantized symmetric restricted error: \\n {dequantized_symmetric_restricted_error:.2}% \\n\")"
   ]
  }
 ],
 "metadata": {
  "kernelspec": {
   "display_name": ".venv",
   "language": "python",
   "name": "python3"
  },
  "language_info": {
   "codemirror_mode": {
    "name": "ipython",
    "version": 3
   },
   "file_extension": ".py",
   "mimetype": "text/x-python",
   "name": "python",
   "nbconvert_exporter": "python",
   "pygments_lexer": "ipython3",
   "version": "3.11.3"
  }
 },
 "nbformat": 4,
 "nbformat_minor": 2
}
