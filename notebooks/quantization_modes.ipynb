{
 "cells": [
  {
   "cell_type": "markdown",
   "metadata": {},
   "source": [
    "# Quantization Modes\n"
   ]
  },
  {
   "cell_type": "code",
   "execution_count": 7,
   "metadata": {},
   "outputs": [
    {
     "ename": "ModuleNotFoundError",
     "evalue": "No module named 'quantization_notes'",
     "output_type": "error",
     "traceback": [
      "\u001b[0;31m---------------------------------------------------------------------------\u001b[0m",
      "\u001b[0;31mModuleNotFoundError\u001b[0m                       Traceback (most recent call last)",
      "Cell \u001b[0;32mIn[7], line 4\u001b[0m\n\u001b[1;32m      1\u001b[0m \u001b[38;5;66;03m# define imports\u001b[39;00m\n\u001b[1;32m      2\u001b[0m \u001b[38;5;28;01mimport\u001b[39;00m \u001b[38;5;21;01mnumpy\u001b[39;00m \u001b[38;5;28;01mas\u001b[39;00m \u001b[38;5;21;01mnp\u001b[39;00m\n\u001b[0;32m----> 4\u001b[0m \u001b[38;5;28;01mfrom\u001b[39;00m \u001b[38;5;21;01mquantization_notes\u001b[39;00m\u001b[38;5;21;01m.\u001b[39;00m\u001b[38;5;21;01mutils\u001b[39;00m\u001b[38;5;21;01m.\u001b[39;00m\u001b[38;5;21;01mplot\u001b[39;00m \u001b[38;5;28;01mimport\u001b[39;00m plot_table\n",
      "\u001b[0;31mModuleNotFoundError\u001b[0m: No module named 'quantization_notes'"
     ]
    }
   ],
   "source": [
    "# define imports\n",
    "import numpy as np\n",
    "\n",
    "from quantization.utils import plot_table"
   ]
  },
  {
   "cell_type": "markdown",
   "metadata": {},
   "source": [
    "## Symmetric Quantization\n",
    "\n",
    "In symmetric quantization, we map the floating-point range to the quantized range with respect to 0. To do so, we choose the maximum absolute value between the min/max of the floating-point range i.e. $max|x_f| = -max(x_f) $ or $max(x_f)$, where $x_f$ is some number in the floating-point range. Additionally, we choose $N_{bins} = 2^n$, where $n$ is the number of bits we want to quantize to.\n",
    "\n",
    "Example: Let's say we wanted an 8-bit quantization range. Then, the number of bins would be $N_{bins} = 2^8 = 256 \\implies [0,255] \\implies [-128,127]$. That is the \"full range\" symmetric around 0. However in practice, this range is generally \"restricted\" to $[-127,127]$. We can derive scaling factors to map from floating point to quantized for both ranges:\n",
    "\n",
    "$$\n",
    "\\def\\arraystretch{1.5}\n",
    "\\begin{array}{c|c|c}\n",
    "& \\text{Full Range} & \\text{Restricted Range} \\\\ \\hline\n",
    "\\text{Quantized Range} & [-\\frac{N_{bins}}{2},\\frac{N_{bins}}{2}-1] & [-(\\frac{N_{bins}}{2}-1),\\frac{N_{bins}}{2}-1] \\\\ \\hline\n",
    "\\text{8-bit Example} & [-128,127] & [-127,127] \\\\ \\hline\n",
    "\\text{Scale Factor} & q_x=\\frac{(2^n-1)/2}{max(|x_f|)} & q_x=\\frac{2^{n-1}-1}{max(|x_f|)} \\\\\n",
    "\\end {array}\n",
    "$$\n",
    "\n",
    "Finally, we can compute our symmetric quantized number:\n",
    "\n",
    "$$x_q = \\text{round}(q_xx_f)$$\n"
   ]
  },
  {
   "cell_type": "code",
   "execution_count": 5,
   "metadata": {},
   "outputs": [
    {
     "name": "stdout",
     "output_type": "stream",
     "text": [
      "unquantized data:\n",
      " [[ 172.71694805 -695.71811529  387.47549919 -126.40860514  462.68867062]\n",
      " [ 248.72155205  773.94617695 -405.48576577  739.61213269 -652.9702183 ]\n",
      " [-833.36536888  -84.05127764 -867.87526821  323.935187   -402.2115593 ]\n",
      " [ 547.32503623 -671.37693182 -135.44525078  920.91887197 -266.84658603]\n",
      " [ 314.45379454  227.06985558 -878.88743677  732.116133    400.80117965]]\n",
      "quantize symmetric full\n",
      " [[  24  -96   54  -18   64]\n",
      " [  34  107  -56  102  -90]\n",
      " [-115  -12 -120   45  -56]\n",
      " [  76  -93  -19 -128  -37]\n",
      " [  44   31 -122  101   55]]\n",
      "quantize symmetric restricted\n",
      " [[  24  -96   53  -17   64]\n",
      " [  34  107  -56  102  -90]\n",
      " [-115  -12 -120   45  -55]\n",
      " [  75  -93  -19  127  -37]\n",
      " [  43   31 -121  101   55]]\n"
     ]
    },
    {
     "ename": "NameError",
     "evalue": "name 'plot_table' is not defined",
     "output_type": "error",
     "traceback": [
      "\u001b[0;31m---------------------------------------------------------------------------\u001b[0m",
      "\u001b[0;31mNameError\u001b[0m                                 Traceback (most recent call last)",
      "Cell \u001b[0;32mIn[5], line 21\u001b[0m\n\u001b[1;32m     17\u001b[0m \u001b[38;5;28mprint\u001b[39m(\u001b[38;5;124mf\u001b[39m\u001b[38;5;124m\"\u001b[39m\u001b[38;5;124mquantize symmetric full\u001b[39m\u001b[38;5;130;01m\\n\u001b[39;00m\u001b[38;5;124m \u001b[39m\u001b[38;5;132;01m{\u001b[39;00mquantize_symmetric_full(\u001b[38;5;241m8\u001b[39m,\u001b[38;5;250m \u001b[39mdata)\u001b[38;5;241m.\u001b[39mastype(np\u001b[38;5;241m.\u001b[39mint8)\u001b[38;5;132;01m}\u001b[39;00m\u001b[38;5;124m\"\u001b[39m)\n\u001b[1;32m     18\u001b[0m \u001b[38;5;28mprint\u001b[39m(\n\u001b[1;32m     19\u001b[0m     \u001b[38;5;124mf\u001b[39m\u001b[38;5;124m\"\u001b[39m\u001b[38;5;124mquantize symmetric restricted\u001b[39m\u001b[38;5;130;01m\\n\u001b[39;00m\u001b[38;5;124m \u001b[39m\u001b[38;5;132;01m{\u001b[39;00mquantize_symmetric_restricted(\u001b[38;5;241m8\u001b[39m,\u001b[38;5;250m \u001b[39mdata)\u001b[38;5;241m.\u001b[39mastype(np\u001b[38;5;241m.\u001b[39mint8)\u001b[38;5;132;01m}\u001b[39;00m\u001b[38;5;124m\"\u001b[39m\n\u001b[1;32m     20\u001b[0m )\n\u001b[0;32m---> 21\u001b[0m \u001b[43mplot_table\u001b[49m(data, \u001b[38;5;124m\"\u001b[39m\u001b[38;5;124moutput/random-table.png\u001b[39m\u001b[38;5;124m\"\u001b[39m, \u001b[38;5;124m\"\u001b[39m\u001b[38;5;124mOranges\u001b[39m\u001b[38;5;124m\"\u001b[39m, \u001b[38;5;124m\"\u001b[39m\u001b[38;5;124mblack\u001b[39m\u001b[38;5;124m\"\u001b[39m, \u001b[38;5;124m\"\u001b[39m\u001b[38;5;124mblack\u001b[39m\u001b[38;5;124m\"\u001b[39m)\n",
      "\u001b[0;31mNameError\u001b[0m: name 'plot_table' is not defined"
     ]
    }
   ],
   "source": [
    "def quantize_symmetric_full(n: int, x_f: np.array) -> np.array:\n",
    "    q_x = ((pow(2, n) - 1) / 2) / np.max(np.abs(x_f))\n",
    "    x_q = np.round(q_x * x_f)\n",
    "    return x_q\n",
    "\n",
    "\n",
    "def quantize_symmetric_restricted(n: int, x_f: np.array) -> np.array:\n",
    "    q_x = (pow(2, n - 1) - 1) / np.max(np.abs(x_f))\n",
    "    x_q = np.round(q_x * x_f)\n",
    "    return x_q\n",
    "\n",
    "\n",
    "# In Python the smallest data type is bool which is 8 bits,\n",
    "# unfortunately we can't do any smaller here\n",
    "data = np.random.uniform(-1000, 1000, size=(5, 5))\n",
    "print(f\"unquantized data:\\n {data}\")\n",
    "print(f\"quantize symmetric full\\n {quantize_symmetric_full(8, data).astype(np.int8)}\")\n",
    "print(\n",
    "    f\"quantize symmetric restricted\\n {quantize_symmetric_restricted(8, data).astype(np.int8)}\"\n",
    ")\n",
    "plot_table(data, \"output/random-table.png\", \"Oranges\", \"black\", \"black\")"
   ]
  },
  {
   "cell_type": "code",
   "execution_count": null,
   "metadata": {},
   "outputs": [],
   "source": []
  }
 ],
 "metadata": {
  "kernelspec": {
   "display_name": ".venv",
   "language": "python",
   "name": "python3"
  },
  "language_info": {
   "codemirror_mode": {
    "name": "ipython",
    "version": 3
   },
   "file_extension": ".py",
   "mimetype": "text/x-python",
   "name": "python",
   "nbconvert_exporter": "python",
   "pygments_lexer": "ipython3",
   "version": "3.10.12"
  }
 },
 "nbformat": 4,
 "nbformat_minor": 2
}
